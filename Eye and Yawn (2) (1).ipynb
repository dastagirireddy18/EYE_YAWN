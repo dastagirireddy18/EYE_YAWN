{
 "cells": [
  {
   "cell_type": "code",
   "execution_count": 1,
   "metadata": {},
   "outputs": [
    {
     "name": "stdout",
     "output_type": "stream",
     "text": [
      "pygame 1.9.4\n",
      "Hello from the pygame community. https://www.pygame.org/contribute.html\n"
     ]
    }
   ],
   "source": [
    "from threading import Thread\n",
    "from scipy.spatial import distance\n",
    "from imutils import face_utils\n",
    "import numpy as np\n",
    "import pygame #For playing sound\n",
    "import time\n",
    "import dlib\n",
    "import cv2"
   ]
  },
  {
   "cell_type": "code",
   "execution_count": 2,
   "metadata": {},
   "outputs": [],
   "source": [
    "#Load face detector and predictor, uses dlib shape predictor file\n",
    "detector = dlib.get_frontal_face_detector()\n",
    "predictor = dlib.shape_predictor('shape_predictor_68_face_landmarks.dat')"
   ]
  },
  {
   "cell_type": "code",
   "execution_count": 3,
   "metadata": {},
   "outputs": [],
   "source": [
    "#Initialize Pygame and load music\n",
    "pygame.mixer.init()\n",
    "pygame.mixer.music.load('audio/alert.wav')"
   ]
  },
  {
   "cell_type": "code",
   "execution_count": 4,
   "metadata": {},
   "outputs": [],
   "source": [
    "#Minimum threshold of eye aspect ratio below which alarm is triggerd\n",
    "EYE_ASPECT_RATIO_THRESHOLD = 0.3\n",
    "\n",
    "#Minimum consecutive frames for which eye ratio is below threshold for alarm to be triggered\n",
    "EYE_ASPECT_RATIO_CONSEC_FRAMES = 20\n",
    "\n",
    "#COunts no. of consecutuve frames below threshold value\n",
    "COUNTER = 0\n",
    "#Load face cascade which will be used to draw a rectangle around detected faces.\n",
    "face_cascade = cv2.CascadeClassifier(\"haarcascades/haarcascade_frontalface_default.xml\")"
   ]
  },
  {
   "cell_type": "code",
   "execution_count": null,
   "metadata": {},
   "outputs": [],
   "source": [
    "def eye_aspect_ratio(eye):\n",
    "        A = distance.euclidean(eye[1], eye[5])\n",
    "        B = distance.euclidean(eye[2], eye[4])\n",
    "        C = distance.euclidean(eye[0], eye[3])\n",
    "\n",
    "        ear = (A+B) / (2*C)\n",
    "        return ear\n",
    "\n",
    "def get_landmarks(im):\n",
    "        rects = detector(im, 1)\n",
    "\n",
    "        if len(rects) > 1:\n",
    "            return \"error\"\n",
    "        if len(rects) == 0:\n",
    "            return \"error\"\n",
    "        return np.matrix([[p.x, p.y] for p in predictor(im, rects[0]).parts()])\n",
    "\n",
    "def annotate_landmarks(im, landmarks):\n",
    "        im = im.copy()\n",
    "        for idx, point in enumerate(landmarks):\n",
    "            pos = (point[0, 0], point[0, 1])\n",
    "            cv2.putText(im, str(idx), pos,\n",
    "                        fontFace=cv2.FONT_HERSHEY_SCRIPT_SIMPLEX,\n",
    "                        fontScale=0.4,\n",
    "                        color=(0, 0, 255))\n",
    "            cv2.circle(im, pos, 3, color=(0, 255, 255))\n",
    "        return im\n",
    "    \n",
    "def top_lip(landmarks):\n",
    "        top_lip_pts = []\n",
    "        for i in range(50,53):\n",
    "            top_lip_pts.append(landmarks[i])\n",
    "        for i in range(61,64):\n",
    "            top_lip_pts.append(landmarks[i])\n",
    "        top_lip_all_pts = np.squeeze(np.asarray(top_lip_pts))\n",
    "        top_lip_mean = np.mean(top_lip_pts, axis=0)\n",
    "        return int(top_lip_mean[:,1])\n",
    "\n",
    "def bottom_lip(landmarks):\n",
    "        bottom_lip_pts = []\n",
    "        for i in range(65,68):\n",
    "            bottom_lip_pts.append(landmarks[i])\n",
    "        for i in range(56,59):\n",
    "            bottom_lip_pts.append(landmarks[i])\n",
    "        bottom_lip_all_pts = np.squeeze(np.asarray(bottom_lip_pts))\n",
    "        bottom_lip_mean = np.mean(bottom_lip_pts, axis=0)\n",
    "        return int(bottom_lip_mean[:,1])\n",
    "\n",
    "def mouth_open(image):\n",
    "        landmarks = get_landmarks(image)\n",
    "\n",
    "        if landmarks == \"error\":\n",
    "            return image, 0\n",
    "\n",
    "        image_with_landmarks = annotate_landmarks(image, landmarks)\n",
    "        top_lip_center = top_lip(landmarks)\n",
    "        bottom_lip_center = bottom_lip(landmarks)\n",
    "        lip_distance = abs(top_lip_center - bottom_lip_center)\n",
    "        return image_with_landmarks, lip_distance\n",
    "\n"
   ]
  },
  {
   "cell_type": "code",
   "execution_count": null,
   "metadata": {},
   "outputs": [],
   "source": [
    "#Extract indexes of facial landmarks for the left and right eye\n",
    "(lStart, lEnd) = face_utils.FACIAL_LANDMARKS_IDXS['left_eye']\n",
    "(rStart, rEnd) = face_utils.FACIAL_LANDMARKS_IDXS['right_eye']\n",
    "\n",
    "#Start webcam video capture\n",
    "video_capture = cv2.VideoCapture(0)\n",
    "#Give some time for camera to initialize(not required)\n",
    "time.sleep(2)"
   ]
  },
  {
   "cell_type": "code",
   "execution_count": null,
   "metadata": {},
   "outputs": [],
   "source": [
    "yawns = 0\n",
    "yawn_status = False \n",
    "#counter value for eye and yawn\n",
    "#ce=0\n",
    "#cy=0"
   ]
  },
  {
   "cell_type": "code",
   "execution_count": null,
   "metadata": {},
   "outputs": [
    {
     "name": "stderr",
     "output_type": "stream",
     "text": [
      "/usr/local/lib/python3.6/dist-packages/ipykernel_launcher.py:52: FutureWarning: elementwise comparison failed; returning scalar instead, but in the future will perform elementwise comparison\n"
     ]
    }
   ],
   "source": [
    "while True:\n",
    "    #Read each frame and flip it, and convert to grayscale\n",
    "    ret, frame = video_capture.read()\n",
    "    frame = cv2.flip(frame,1)\n",
    "    gray = cv2.cvtColor(frame, cv2.COLOR_BGR2GRAY)\n",
    "\n",
    "    #Detect facial points through detector function\n",
    "    faces = detector(gray, 0)\n",
    "    \n",
    "    #Detect faces through haarcascade_frontalface_default.xml\n",
    "    face_rectangle = face_cascade.detectMultiScale(gray, 1.3, 5)\n",
    "\n",
    "    #Draw rectangle around each face detected\n",
    "    for (x,y,w,h) in face_rectangle:\n",
    "        cv2.rectangle(frame,(x,y),(x+w,y+h),(255,0,0),2)\n",
    "    #yawn detection\n",
    "    image_landmarks, lip_distance = mouth_open(frame)\n",
    "    prev_yawn_status = yawn_status\n",
    "    if lip_distance > 25:\n",
    "        yawn_status = True \n",
    "        pygame.mixer.music.play(-1)\n",
    "        cv2.putText(frame, \"Subject is Yawning\", (50,450), \n",
    "                    cv2.FONT_HERSHEY_COMPLEX, 1,(0,0,255),2)\n",
    "        #cy++\n",
    "\n",
    "        output_text = \" Yawn Count: \" + str(yawns + 1)\n",
    "\n",
    "        cv2.putText(frame, output_text, (50,50),\n",
    "                    cv2.FONT_HERSHEY_COMPLEX, 1,(0,255,127),2)\n",
    "        \n",
    "    else:\n",
    "        yawn_status = False \n",
    "        pygame.mixer.music.stop() \n",
    "    if prev_yawn_status == True and yawn_status == False:\n",
    "        yawns += 1\n",
    "\n",
    "    cv2.imshow('Live Landmarks', image_landmarks )\n",
    "    cv2.imshow('Yawn Detection', frame )\n",
    "    \n",
    "    if cv2.waitKey(1) == 13: #13 is the Enter Key\n",
    "        break\n",
    "    #Detect facial points\n",
    "    for face in faces:\n",
    "\n",
    "        shape = predictor(gray, face)\n",
    "        shape = face_utils.shape_to_np(shape)\n",
    "\n",
    "        #Get array of coordinates of leftEye and rightEye\n",
    "        leftEye = shape[lStart:lEnd]\n",
    "        rightEye = shape[rStart:rEnd]\n",
    "\n",
    "        #Calculate aspect ratio of both eyes\n",
    "        leftEyeAspectRatio = eye_aspect_ratio(leftEye)\n",
    "        rightEyeAspectRatio = eye_aspect_ratio(rightEye)\n",
    "\n",
    "        eyeAspectRatio = (leftEyeAspectRatio + rightEyeAspectRatio) / 2\n",
    "\n",
    "        #Use hull to remove convex contour discrepencies and draw eye shape around eyes\n",
    "        leftEyeHull = cv2.convexHull(leftEye)\n",
    "        rightEyeHull = cv2.convexHull(rightEye)\n",
    "        cv2.drawContours(frame, [leftEyeHull], -1, (0, 255, 0), 1)\n",
    "        cv2.drawContours(frame, [rightEyeHull], -1, (0, 255, 0), 1)\n",
    "\n",
    "        #Detect if eye aspect ratio is less than threshold\n",
    "        if(eyeAspectRatio < EYE_ASPECT_RATIO_THRESHOLD):\n",
    "            COUNTER += 1\n",
    "            #If no. of frames is greater than threshold frames,\n",
    "            if COUNTER >= EYE_ASPECT_RATIO_CONSEC_FRAMES:\n",
    "                pygame.mixer.music.play(-1)\n",
    "                cv2.putText(frame, \"You are Drowsy\", (150,200), cv2.FONT_HERSHEY_SIMPLEX, 1.5, (0,0,255), 2)\n",
    "                #ce++\n",
    "        else:\n",
    "            pygame.mixer.music.stop()\n",
    "            COUNTER = 0\n",
    "\n",
    "    #Show video feed\n",
    "    cv2.imshow('Video', frame)\n",
    "    if(cv2.waitKey(1) & 0xFF == ord('q')):\n",
    "        break\n",
    "\n",
    "#Finally when video capture is over, release the video capture and destroyAllWindows\n",
    "video_capture.release()\n",
    "cv2.destroyAllWindows()\n",
    "\n",
    "    \n",
    "           \n",
    "\n",
    "        \n"
   ]
  },
  {
   "cell_type": "code",
   "execution_count": null,
   "metadata": {},
   "outputs": [],
   "source": []
  }
 ],
 "metadata": {
  "kernelspec": {
   "display_name": "Python 3",
   "language": "python",
   "name": "python3"
  },
  "language_info": {
   "codemirror_mode": {
    "name": "ipython",
    "version": 3
   },
   "file_extension": ".py",
   "mimetype": "text/x-python",
   "name": "python",
   "nbconvert_exporter": "python",
   "pygments_lexer": "ipython3",
   "version": "3.6.7"
  }
 },
 "nbformat": 4,
 "nbformat_minor": 2
}
